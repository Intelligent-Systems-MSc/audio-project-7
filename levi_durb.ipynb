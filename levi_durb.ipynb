{
 "cells": [
  {
   "cell_type": "code",
   "execution_count": null,
   "id": "f25e2d03",
   "metadata": {},
   "outputs": [],
   "source": [
    "#Implementation de la fonction de  levinson-Durbin \n",
    "\n",
    "def levi_durb (y, M):\n",
    "    \n",
    "    #M represente l'ordre du filtre LCP\n",
    "    \n",
    "    sommeK=0;       #Initialisation de la somme\n",
    "    a=np.zeros([M+1,M+1], dtype=int); #définition d'une matrice de zéros pour \"a\" coefficient \n",
    "    \n",
    "    z=np.correlate(y, y,mode='full')\n",
    "    \n",
    "    #finding array of R[l] Trouver les R[] vecteurs d'autocorrelation\n",
    "    R=z[ ( (len(z)+1) /2 ) , len(z)];  \n",
    "    \n",
    "    #Initialiser les paramètres de prédiction :\n",
    "    s=1\n",
    "    J = [len(R)]\n",
    "    J[1]=[R1]         \n",
    "    \n",
    "    #Définir les paramètre de prédictions à l'ordre (s-1):\n",
    "    for s in range (2,M+1):\n",
    "        sommeK=0;               #réinitialiser la somme aprés chaque itération\n",
    "        for i in range (2,(s-1)):\n",
    "            sommeK=sommeK + np.array(a(i,(s-1)))*np.array(R(s-i+1))\n",
    "        #Nous calculons \"K\" le coefficient de reflection aprés l'obtention de chaque valeur de la somme\n",
    "                            \n",
    "        sommeK[s]= np.divide ((R(s) + sommeK),J(s-1))\n",
    "        J[s]=np.multiply (J(s-1),(1-(sommeK(s))**2))\n",
    "        \n",
    "        a[s,s]= -sommeK(s);\n",
    "        a[1,s]=1;\n",
    "        for i in range (2,(s-1)):\n",
    "            a[i,s]=a[i,(s-1)] - np. multiply( sommeK(s) , a((s-i+1),(s-1)) );\n",
    "        \n",
    "    \n",
    "    #Nous  faisons de même pour la trame suivante jusqu'à la fin de la trame lorsque \n",
    "    #combinaison de ce code avec d'autres parties de l'algorithme LPC\n",
    "    \n",
    "    \n",
    "    
    "    coeffs= np.transpose (a[(1,s),s])       #array of \"a(i,s)\", where, s=M+1\n",
    "    Ncoeffs = len(coeffs);\n",
    "    \n",
    "    est_y = lfilter([0 -coeffs(2,end)],1,y, axis = 0);    ,
    "    e = y - est_y;      #supposed to be a white noise\n",
    "    \n",
    "    \n",
    "    return coeffs, Ncoeffs, e "
   ]
  }
 ],
 "metadata": {
  "kernelspec": {
   "display_name": "Python 3",
   "language": "python",
   "name": "python3"
  },
  "language_info": {
   "codemirror_mode": {
    "name": "ipython",
    "version": 3
   },
   "file_extension": ".py",
   "mimetype": "text/x-python",
   "name": "python",
   "nbconvert_exporter": "python",
   "pygments_lexer": "ipython3",
   "version": "3.8.8"
  }
 },
 "nbformat": 4,
 "nbformat_minor": 5
}
