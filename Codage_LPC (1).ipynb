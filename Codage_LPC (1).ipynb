{
  "nbformat": 4,
  "nbformat_minor": 0,
  "metadata": {
    "colab": {
      "name": "Codage LPC.ipynb",
      "provenance": [],
      "collapsed_sections": []
    },
    "kernelspec": {
      "name": "python3",
      "display_name": "Python 3"
    },
    "language_info": {
      "name": "python"
    }
  },
  "cells": [
    {
      "cell_type": "code",
      "metadata": {
        "id": "EjPyCBn3wEKI"
      },
      "source": [
        "import numpy as np\n",
        "import matplotlib.pyplot as plt \n",
        "import wave\n",
        "from scipy.io import wavfile"
      ],
      "execution_count": 1,
      "outputs": []
    },
    {
      "cell_type": "markdown",
      "metadata": {
        "id": "VLnRacMgvTi4"
      },
      "source": [
        "# **Découpage en trames de 20 ms**"
      ]
    },
    {
      "cell_type": "code",
      "metadata": {
        "id": "kMDzgE92xJNJ"
      },
      "source": [
        "#Découper le fichier en trames de 20 ms\n",
        "\n",
        "samplerate, data = wavfile.read('sound.wav')\n",
        "Fe=16000\n",
        "#durée du signal sonore en secondes\n",
        "T=len(data)/Fe\n",
        "#Nombre d'échantillons dans chaque trame\n",
        "n=int(20*10**(-3)*Fe)\n",
        "#Découpage en trames\n",
        "y,i,l=[],0,0\n",
        "data=np.array(data)\n",
        "while (l!=len(data)):\n",
        "  l=min(n+i*n,len(data))\n",
        "  y.append(data[0+i*n:l])\n",
        "  i+=1\n",
        "#On a 320 échantillons par trames \n"
      ],
      "execution_count": 2,
      "outputs": []
    },
    {
      "cell_type": "markdown",
      "metadata": {
        "id": "r2d-XSFDvZcc"
      },
      "source": [
        "# **Méthode LPC**"
      ]
    },
    {
      "cell_type": "code",
      "metadata": {
        "id": "jV4KfoO77-n6"
      },
      "source": [
        "#LPC pour chaque trame\n",
        "\n",
        "#Calcule des coefficients R(p)\n",
        "def R(j,p):   #j représente le numéro de la trame, cette fonction calcule le coeff R(p) de la j ème trame\n",
        "  r=0\n",
        "  N=len(y[j])-p\n",
        "  for i in range(N):\n",
        "    r+=y[j][i]*y[j][i+p]\n",
        "  return r\n",
        "\n",
        "def LPC (j,P):       #Résoudre A*a=r, j représente le numéro de la trame\n",
        "  r=np.zeros((P, 1))\n",
        "  for i in range (P):\n",
        "    r[i][0]=R(j,i+1)\n",
        "  \n",
        "  A=np.zeros((P, P))\n",
        "  for i in range (P):\n",
        "    #Valeurs sur la diagonale\n",
        "    A[i][i] = R(j,0)\n",
        "  #Valeurs au dessus de la diagonale \n",
        "  for i in range (P):\n",
        "    for k in range (P):\n",
        "      if (i+k<P):\n",
        "        #A[0+k][i+k] = A[0][i]\n",
        "        A[0+k][i+k] = R(j,i)      \n",
        "  #Ensuite pour toute valeur de la matrice en dessous de la diagonale faire = à son symétrique\n",
        "  for i in range (P):\n",
        "    for k in range (P):\n",
        "      if(i+k<P):\n",
        "        A[i+k][k] = A[k][i+k]\n",
        "  return A,r"
      ],
      "execution_count": 3,
      "outputs": []
    },
    {
      "cell_type": "code",
      "metadata": {
        "id": "wsUB5dizL5Ue"
      },
      "source": [
        "def e(i,n):  #n \n",
        "  e=np.zeros((n,1))\n",
        "  e[i-1]=1\n",
        "  return e\n",
        "\n",
        "def Durbin(P):\n",
        "  #f,b=1/R(200,0),1/R(200,0)\n",
        "  #f=np.array([1/R(200,0)])\n",
        "  f=np.array([1/R(200,0)])  #Forward\n",
        "  b=np.array([1/R(200,0)])  #Backward\n",
        "  n=0\n",
        "  A,r=LPC(200,P)\n",
        "  while(n<P-2):\n",
        "    eps_f,eps_b=0,0\n",
        "    for i in range (len(f)):\n",
        "      #eps_f+=A[-1][i]*f[i]\n",
        "      \n",
        "    for i in range (1,len(b)):\n",
        "      eps_b+=A[0][i+1]*b[i]\n",
        "    f,b=(np.insert(f,len(f),0)-eps_f*np.insert(b,0,0)) /(1-eps_b*eps_f),(np.insert(b,0,0)-eps_b*np.insert(f,len(f),0)) /(1-eps_b*eps_f) \n",
        "    n+=1\n",
        "  #f,b=list(f,b)\n",
        "  #f,b=np.reshape(f, (n, 1)),np.reshape(b, (n, 1))\n",
        "  return f,b"
      ],
      "execution_count": 51,
      "outputs": []
    },
    {
      "cell_type": "code",
      "metadata": {
        "colab": {
          "base_uri": "https://localhost:8080/"
        },
        "id": "fCSgfeOT9jD2",
        "outputId": "0c7d48a7-4d49-4770-a1bc-2191608b0e6b"
      },
      "source": [
        "a,b=LPC(215,8)\n",
        "i= np.linalg.inv(a)\n",
        "x=np.dot(i,b)\n",
        "#print(x)"
      ],
      "execution_count": 4,
      "outputs": [
        {
          "output_type": "stream",
          "name": "stderr",
          "text": [
            "/usr/local/lib/python3.7/dist-packages/ipykernel_launcher.py:8: RuntimeWarning: overflow encountered in short_scalars\n",
            "  \n"
          ]
        }
      ]
    },
    {
      "cell_type": "markdown",
      "metadata": {
        "id": "X0-qJ3J7vg9d"
      },
      "source": [
        "# **Tracé du filtre du conduit vocal**"
      ]
    },
    {
      "cell_type": "code",
      "metadata": {
        "id": "SHUyGHycCYzl"
      },
      "source": [
        "def H(z):\n",
        "  P=x.shape[0]\n",
        "  den=0\n",
        "  for i in range(P):\n",
        "    den+=x[i]*z**(-i-1)\n",
        "  return 1/(1-den)\n",
        "\n",
        "def Hf(f):\n",
        "    return H(np.exp(1j*2*math.pi*f))"
      ],
      "execution_count": 5,
      "outputs": []
    },
    {
      "cell_type": "code",
      "metadata": {
        "colab": {
          "base_uri": "https://localhost:8080/",
          "height": 279
        },
        "id": "VCotWnndggUP",
        "outputId": "e31e310b-9aa5-4add-fb02-e94495153b58"
      },
      "source": [
        "import math\n",
        "import cmath\n",
        "f = np.arange(start=0.0,stop=0.5,step=0.01)\n",
        "plt.plot(f,np.absolute(Hf(f)),'r')\n",
        "plt.xlabel('f/fe')\n",
        "plt.ylabel('|H|')\n",
        "plt.grid()"
      ],
      "execution_count": 6,
      "outputs": [
        {
          "output_type": "display_data",
          "data": {
            "image/png": "[encoded data removed]",
            "text/plain": [
              "<Figure size 432x288 with 1 Axes>"
            ]
          },
          "metadata": {
            "needs_background": "light"
          }
        }
      ]
    },
    {
      "cell_type": "code",
      "metadata": {
        "id": "jxukQ4huF30b"
      },
      "source": [
        "def Y(z):\n",
        "  N=len(y[215])\n",
        "  s=0\n",
        "  for i in range (N):\n",
        "    s+=y[215][i]*z**(-i-1)\n",
        "  return s\n",
        "\n",
        "def Yf(f):\n",
        "  return  Y(np.exp(1j*2*math.pi*f))\n",
        "\n",
        "def e(z):\n",
        "  return Y(z)/H(z)\n",
        "\n",
        "def ef(f):\n",
        "  return e(np.exp(1j*2*math.pi*f/Fe))"
      ],
      "execution_count": 15,
      "outputs": []
    },
    {
      "cell_type": "code",
      "metadata": {
        "colab": {
          "base_uri": "https://localhost:8080/",
          "height": 932
        },
        "id": "bNhbfM0sHQ-m",
        "outputId": "b18fd55e-c3a0-404c-9590-cf617414b214"
      },
      "source": [
        "f = np.arange(start=0.0,stop=0.5*Fe,step=0.01*Fe)\n",
        "plt.figure(figsize=(16,16))\n",
        "plt.plot(f,np.absolute(ef(f)),'r')\n",
        "plt.xlabel('f')\n",
        "plt.ylabel('|H|')\n",
        "plt.grid()"
      ],
      "execution_count": 18,
      "outputs": [
        {
          "output_type": "display_data",
          "data": {
            "image/png": "[encoded data removed]",
            "text/plain": [
              "<Figure size 1152x1152 with 1 Axes>"
            ]
          },
          "metadata": {
            "needs_background": "light"
          }
        }
      ]
    },
    {
      "cell_type": "code",
      "metadata": {
        "colab": {
          "base_uri": "https://localhost:8080/"
        },
        "id": "qW9AieojJc2z",
        "outputId": "83dd966b-556e-4b4e-f267-00c8ce541d38"
      },
      "source": [
        ""
      ],
      "execution_count": 21,
      "outputs": [
        {
          "output_type": "stream",
          "name": "stdout",
          "text": [
            "1\n"
          ]
        },
        {
          "output_type": "execute_result",
          "data": {
            "text/plain": [
              "160.0"
            ]
          },
          "metadata": {},
          "execution_count": 21
        }
      ]
    },
    {
      "cell_type": "code",
      "metadata": {
        "id": "GxkB27aeKsyn"
      },
      "source": [
        ""
      ],
      "execution_count": null,
      "outputs": []
    }
  ]
}