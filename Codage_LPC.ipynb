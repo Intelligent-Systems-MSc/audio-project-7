{
  "nbformat": 4,
  "nbformat_minor": 0,
  "metadata": {
    "colab": {
      "name": "Codage LPC.ipynb",
      "provenance": [],
      "collapsed_sections": []
    },
    "kernelspec": {
      "name": "python3",
      "display_name": "Python 3"
    },
    "language_info": {
      "name": "python"
    }
  },
  "cells": [
    {
      "cell_type": "code",
      "metadata": {
        "id": "EjPyCBn3wEKI"
      },
      "source": [
        "import numpy as np\n",
        "import matplotlib.pyplot as plt \n",
        "import wave\n",
        "from scipy.io import wavfile"
      ],
      "execution_count": 6,
      "outputs": []
    },
    {
      "cell_type": "code",
      "metadata": {
        "id": "kMDzgE92xJNJ"
      },
      "source": [
        "#Découper le fichier en trames de 20 ms\n",
        "\n",
        "samplerate, data = wavfile.read('sound.wav')\n",
        "Fe=16000\n",
        "#durée du signal sonore en secondes\n",
        "T=len(data)/Fe\n",
        "#Nombre d'échantillons dans chaque trame\n",
        "n=int(20*10**(-3)*Fe)\n",
        "#Découpage en trames\n",
        "y,i,l=[],0,0\n",
        "data=np.array(data)\n",
        "while (l!=len(data)):\n",
        "  l=min(n+i*n,len(data))\n",
        "  y.append(data[0+i*n:l])\n",
        "  i+=1\n",
        "#On a 320 échantillons par trames \n"
      ],
      "execution_count": 14,
      "outputs": []
    },
    {
      "cell_type": "code",
      "metadata": {
        "id": "jV4KfoO77-n6"
      },
      "source": [
        "#LPC pour chaque trame\n",
        "\n",
        "#Calcule des coefficients R(p)\n",
        "def R(j,p):   #j représente le numéro de la trame, cette fonction calcule le coeff R(p) de la j ème trame\n",
        "  r=0\n",
        "  N=len(y[j])-p\n",
        "  for i in range(N):\n",
        "    r+=y[j][i]*y[j][i+p]\n",
        "  return r\n",
        "\n",
        "def LPC (j,P):       #Résoudre A*a=r, j représente le numéro de la trame\n",
        "  r=np.zeros((P, 1))\n",
        "  for i in range (P):\n",
        "    r[i][0]=R(j,i+1)\n",
        "  \n",
        "  A=np.zeros((P, P))\n",
        "  for i in range (P):\n",
        "    #Valeurs sur la diagonale\n",
        "    A[i][i] = R(j,0)\n",
        "  #Valeurs au dessus de la diagonale \n",
        "  for i in range (P):\n",
        "    for k in range (P):\n",
        "      if (i+k<P):\n",
        "        #A[0+k][i+k] = A[0][i]\n",
        "        A[0+k][i+k] = R(j,i)      \n",
        "  #Ensuite pour toute valeur de la matrice en dessous de la diagonale faire = à son symétrique\n",
        "  for i in range (P):\n",
        "    for k in range (P):\n",
        "      #while(i+k<P):\n",
        "      if(i+k<P):\n",
        "        A[i+k][k] = A[k][i+k]\n",
        "  return A,r"
      ],
      "execution_count": 25,
      "outputs": []
    },
    {
      "cell_type": "code",
      "metadata": {
        "id": "wsUB5dizL5Ue",
        "colab": {
          "base_uri": "https://localhost:8080/"
        },
        "outputId": "c9b98281-e1bd-477d-c283-78a32e485958"
      },
      "source": [
        "LPC(200,5)"
      ],
      "execution_count": 27,
      "outputs": [
        {
          "output_type": "stream",
          "name": "stderr",
          "text": [
            "/usr/local/lib/python3.7/dist-packages/ipykernel_launcher.py:8: RuntimeWarning: overflow encountered in short_scalars\n",
            "  \n"
          ]
        },
        {
          "output_type": "execute_result",
          "data": {
            "text/plain": [
              "(array([[ 870406.,  266538.,  263823., -132765., -277220.],\n",
              "        [ 266538.,  870406.,  266538.,  263823., -132765.],\n",
              "        [ 263823.,  266538.,  870406.,  266538.,  263823.],\n",
              "        [-132765.,  263823.,  266538.,  870406.,  266538.],\n",
              "        [-277220., -132765.,  263823.,  266538.,  870406.]]),\n",
              " array([[ 266538.],\n",
              "        [ 263823.],\n",
              "        [-132765.],\n",
              "        [-277220.],\n",
              "        [ 215639.]]))"
            ]
          },
          "metadata": {},
          "execution_count": 27
        }
      ]
    },
    {
      "cell_type": "code",
      "metadata": {
        "id": "iPTqWeQIVu51"
      },
      "source": [
        ""
      ],
      "execution_count": 23,
      "outputs": []
    },
    {
      "cell_type": "code",
      "metadata": {
        "id": "qFzy5T3JXLnV"
      },
      "source": [
        ""
      ],
      "execution_count": null,
      "outputs": []
    }
  ]
}